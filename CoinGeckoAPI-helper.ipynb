{
 "cells": [
  {
   "cell_type": "code",
   "execution_count": 1,
   "id": "37354179-2255-4731-99da-76566810a16f",
   "metadata": {},
   "outputs": [],
   "source": [
    "# BEFORE ALL do \"pip install -U pycoingecko\" under any enviroment you would like\n",
    "\n",
    "# Import Coin Gecko Library\n",
    "from pycoingecko import CoinGeckoAPI"
   ]
  },
  {
   "cell_type": "code",
   "execution_count": 2,
   "id": "d787a8a5-4e90-4a03-af03-e1c270d24709",
   "metadata": {},
   "outputs": [],
   "source": [
    "# initilize client\n",
    "client = CoinGeckoAPI()"
   ]
  },
  {
   "cell_type": "code",
   "execution_count": 4,
   "id": "407ca146-9bb9-4fd2-8c00-f152a0650bb5",
   "metadata": {},
   "outputs": [
    {
     "data": {
      "text/plain": [
       "{'gecko_says': '(V3) To the Moon!'}"
      ]
     },
     "execution_count": 4,
     "metadata": {},
     "output_type": "execute_result"
    }
   ],
   "source": [
    "# Check API\n",
    "client.ping()"
   ]
  },
  {
   "cell_type": "code",
   "execution_count": 5,
   "id": "6f80cf05-3c3c-4db3-b8d3-d52ce7bb75c7",
   "metadata": {},
   "outputs": [],
   "source": [
    "# make helper functions to change unix time to human time (Coin gecko's data starts in unix time which is unreadable)\n",
    "import datetime\n",
    "import time\n",
    "\n",
    "def unix_time(year, month, day, hour, second):\n",
    "    date_time = datetime.datetime(year, month, day, hour, second)\n",
    "    return time.mktime(date_time.timetuple())\n",
    "\n",
    "def human_time(unix_time):\n",
    "    return datetime.datetime.fromtimestamp(unix_time)"
   ]
  },
  {
   "cell_type": "code",
   "execution_count": 10,
   "id": "8507eb9e-c1bf-483d-9cba-46ee2b2993af",
   "metadata": {},
   "outputs": [],
   "source": [
    "# Pick start and end Dates: Five Years from Jan 1, 2018 - Jan 1, 2023\n",
    "start = unix_time(2018, 1, 1, 0, 0)\n",
    "end = unix_time(2023, 1, 1, 0, 0)"
   ]
  },
  {
   "cell_type": "code",
   "execution_count": 11,
   "id": "ea274c33-b1a6-4d21-a2d6-7dcd4acccc9c",
   "metadata": {},
   "outputs": [],
   "source": [
    "# Pull data from API\n",
    "btc = client.get_coin_market_chart_range_by_id(\n",
    "    id = 'bitcoin',\n",
    "    vs_currency = 'usd',\n",
    "    from_timestamp=start_time,\n",
    "    to_timestamp=end_time\n",
    ")"
   ]
  }
 ],
 "metadata": {
  "kernelspec": {
   "display_name": "Python 3 (ipykernel)",
   "language": "python",
   "name": "python3"
  },
  "language_info": {
   "codemirror_mode": {
    "name": "ipython",
    "version": 3
   },
   "file_extension": ".py",
   "mimetype": "text/x-python",
   "name": "python",
   "nbconvert_exporter": "python",
   "pygments_lexer": "ipython3",
   "version": "3.7.13"
  }
 },
 "nbformat": 4,
 "nbformat_minor": 5
}
